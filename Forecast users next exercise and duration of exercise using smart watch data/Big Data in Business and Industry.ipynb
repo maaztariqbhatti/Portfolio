{
 "cells": [
  {
   "attachments": {},
   "cell_type": "markdown",
   "id": "cba1e430",
   "metadata": {},
   "source": [
    "# Forecast users next exercise and duration of exercise using smart watch data"
   ]
  },
  {
   "attachments": {},
   "cell_type": "markdown",
   "id": "496487c2",
   "metadata": {},
   "source": [
    "#### By: Maaz Tariq Bhatti"
   ]
  },
  {
   "cell_type": "markdown",
   "id": "1f4740cb",
   "metadata": {},
   "source": [
    "# Data exploratory analysis"
   ]
  },
  {
   "cell_type": "markdown",
   "id": "647e53d0",
   "metadata": {},
   "source": [
    "This section of the analysis will contain scripts to load the dataset and then perform exploratory analysis inorder to better understand the data structure.\n",
    "\n",
    "The dataset is available in json format. The dataset contains records of one person from sports tracking software Endomondo. It has 3456 events which translate to the rows of our dataset. Each event is a structure containing 15 variables. While the first 14 variables are singular values of different data types the last variable(15) by the name \"points\" is another structure containing further event information. This structure within a structure contains location, speed and distance covered information during the specific exercise at multiple time stamps. Most of these data points are already aggregated in the main table such as speed,distance etc. \n",
    "\n",
    "In order to keep our dataset simple we keep it in the form of a 2 dimensional table. The location information stored in this simple table format will be scalar values. We extract the starting and ending longitude/latitudes from the \"points\" structure as the high level information for our dataset."
   ]
  },
  {
   "cell_type": "markdown",
   "id": "b110e2fe",
   "metadata": {},
   "source": [
    "We start by loading the dependencies"
   ]
  },
  {
   "cell_type": "code",
   "execution_count": 1,
   "id": "401616d8",
   "metadata": {},
   "outputs": [],
   "source": [
    "import pandas as pd\n",
    "import os\n",
    "import matplotlib.pyplot as plt\n",
    "from read_file_to_df import *\n",
    "from sklearn.model_selection import train_test_split\n",
    "from sklearn.ensemble import RandomForestClassifier\n",
    "from sklearn.metrics import accuracy_score, classification_report"
   ]
  },
  {
   "cell_type": "markdown",
   "id": "24538646",
   "metadata": {},
   "source": [
    "Next we provide the path of the dataset and load it. (The read_file_to_df function is in a seperate file)."
   ]
  },
  {
   "cell_type": "code",
   "execution_count": 2,
   "id": "64e6c9f4",
   "metadata": {},
   "outputs": [],
   "source": [
    "# Settings\n",
    "folder = 'WorkoutData_2017to2020'\n",
    "file_list = os.listdir(folder)\n",
    "\n",
    "# Create Empty DataFrame\n",
    "df_res = pd.DataFrame()\n",
    "\n",
    "# Read files to a common dataframe\n",
    "for filename in file_list:\n",
    "    #print('/n'+filename)\n",
    "    df_process = read_file_to_df(folder +\"/\"+ filename)\n",
    "    df_res = pd.concat([df_res, df_process])\n",
    "\n",
    "df_res.reset_index(drop=True, inplace = True)"
   ]
  },
  {
   "cell_type": "markdown",
   "id": "f6bede43",
   "metadata": {},
   "source": [
    "Display top rows of the dataset in order to get an understanding of it "
   ]
  },
  {
   "cell_type": "code",
   "execution_count": 3,
   "id": "39e2aca8",
   "metadata": {},
   "outputs": [
    {
     "data": {
      "text/html": [
       "<div>\n",
       "<style scoped>\n",
       "    .dataframe tbody tr th:only-of-type {\n",
       "        vertical-align: middle;\n",
       "    }\n",
       "\n",
       "    .dataframe tbody tr th {\n",
       "        vertical-align: top;\n",
       "    }\n",
       "\n",
       "    .dataframe thead th {\n",
       "        text-align: right;\n",
       "    }\n",
       "</style>\n",
       "<table border=\"1\" class=\"dataframe\">\n",
       "  <thead>\n",
       "    <tr style=\"text-align: right;\">\n",
       "      <th></th>\n",
       "      <th>sport</th>\n",
       "      <th>source</th>\n",
       "      <th>created_date</th>\n",
       "      <th>start_time</th>\n",
       "      <th>end_time</th>\n",
       "      <th>duration_s</th>\n",
       "      <th>distance_km</th>\n",
       "      <th>calories_kcal</th>\n",
       "      <th>altitude_min_m</th>\n",
       "      <th>altitude_max_m</th>\n",
       "      <th>speed_avg_kmh</th>\n",
       "      <th>speed_max_kmh</th>\n",
       "      <th>ascend_m</th>\n",
       "      <th>descend_m</th>\n",
       "      <th>start_lat</th>\n",
       "      <th>start_long</th>\n",
       "      <th>end_lat</th>\n",
       "      <th>end_long</th>\n",
       "      <th>hydration_l</th>\n",
       "    </tr>\n",
       "  </thead>\n",
       "  <tbody>\n",
       "    <tr>\n",
       "      <th>0</th>\n",
       "      <td>WALKING</td>\n",
       "      <td>TRACK_MOBILE</td>\n",
       "      <td>2017-05-13 14:02:55.0</td>\n",
       "      <td>2017-05-13 14:01:50.0</td>\n",
       "      <td>2017-05-13 14:37:51.0</td>\n",
       "      <td>2160</td>\n",
       "      <td>2.910000</td>\n",
       "      <td>209.2250</td>\n",
       "      <td>118.000</td>\n",
       "      <td>213.500</td>\n",
       "      <td>4.850000</td>\n",
       "      <td>7.2000</td>\n",
       "      <td>198.500</td>\n",
       "      <td>183.000</td>\n",
       "      <td>64.231913</td>\n",
       "      <td>27.729532</td>\n",
       "      <td>64.231913</td>\n",
       "      <td>27.729532</td>\n",
       "      <td>NaN</td>\n",
       "    </tr>\n",
       "    <tr>\n",
       "      <th>1</th>\n",
       "      <td>WALKING</td>\n",
       "      <td>TRACK_MOBILE</td>\n",
       "      <td>2018-04-06 06:16:11.0</td>\n",
       "      <td>2018-04-06 06:16:10.0</td>\n",
       "      <td>2018-04-06 06:41:18.0</td>\n",
       "      <td>1507</td>\n",
       "      <td>2.238073</td>\n",
       "      <td>178.0000</td>\n",
       "      <td>162.838</td>\n",
       "      <td>235.334</td>\n",
       "      <td>5.346425</td>\n",
       "      <td>10.4055</td>\n",
       "      <td>356.057</td>\n",
       "      <td>370.696</td>\n",
       "      <td>64.231726</td>\n",
       "      <td>27.729664</td>\n",
       "      <td>64.231726</td>\n",
       "      <td>27.729664</td>\n",
       "      <td>0.099905</td>\n",
       "    </tr>\n",
       "    <tr>\n",
       "      <th>2</th>\n",
       "      <td>WALKING</td>\n",
       "      <td>TRACK_MOBILE</td>\n",
       "      <td>2017-11-13 04:18:37.0</td>\n",
       "      <td>2017-11-13 04:16:17.0</td>\n",
       "      <td>2017-11-13 04:34:04.0</td>\n",
       "      <td>1066</td>\n",
       "      <td>1.090000</td>\n",
       "      <td>87.6835</td>\n",
       "      <td>137.500</td>\n",
       "      <td>210.500</td>\n",
       "      <td>3.681051</td>\n",
       "      <td>6.3000</td>\n",
       "      <td>62.500</td>\n",
       "      <td>71.000</td>\n",
       "      <td>64.231804</td>\n",
       "      <td>27.729534</td>\n",
       "      <td>64.231804</td>\n",
       "      <td>27.729534</td>\n",
       "      <td>NaN</td>\n",
       "    </tr>\n",
       "    <tr>\n",
       "      <th>3</th>\n",
       "      <td>WALKING</td>\n",
       "      <td>TRACK_MOBILE</td>\n",
       "      <td>2017-05-27 06:43:58.0</td>\n",
       "      <td>2017-05-27 06:09:17.0</td>\n",
       "      <td>2017-05-27 06:43:17.0</td>\n",
       "      <td>2040</td>\n",
       "      <td>2.860000</td>\n",
       "      <td>214.7170</td>\n",
       "      <td>118.000</td>\n",
       "      <td>158.000</td>\n",
       "      <td>5.047059</td>\n",
       "      <td>8.1000</td>\n",
       "      <td>69.000</td>\n",
       "      <td>70.000</td>\n",
       "      <td>64.231613</td>\n",
       "      <td>27.729586</td>\n",
       "      <td>64.231613</td>\n",
       "      <td>27.729586</td>\n",
       "      <td>NaN</td>\n",
       "    </tr>\n",
       "    <tr>\n",
       "      <th>4</th>\n",
       "      <td>CYCLING_SPORT</td>\n",
       "      <td>TRACK_MOBILE</td>\n",
       "      <td>2017-07-23 14:46:45.0</td>\n",
       "      <td>2017-07-23 14:45:00.0</td>\n",
       "      <td>2017-07-23 15:11:10.0</td>\n",
       "      <td>1569</td>\n",
       "      <td>8.090000</td>\n",
       "      <td>306.2000</td>\n",
       "      <td>120.000</td>\n",
       "      <td>173.000</td>\n",
       "      <td>18.562141</td>\n",
       "      <td>39.6000</td>\n",
       "      <td>51.500</td>\n",
       "      <td>54.000</td>\n",
       "      <td>64.220878</td>\n",
       "      <td>27.671177</td>\n",
       "      <td>64.220878</td>\n",
       "      <td>27.671177</td>\n",
       "      <td>NaN</td>\n",
       "    </tr>\n",
       "  </tbody>\n",
       "</table>\n",
       "</div>"
      ],
      "text/plain": [
       "           sport        source           created_date             start_time   \n",
       "0        WALKING  TRACK_MOBILE  2017-05-13 14:02:55.0  2017-05-13 14:01:50.0  \\\n",
       "1        WALKING  TRACK_MOBILE  2018-04-06 06:16:11.0  2018-04-06 06:16:10.0   \n",
       "2        WALKING  TRACK_MOBILE  2017-11-13 04:18:37.0  2017-11-13 04:16:17.0   \n",
       "3        WALKING  TRACK_MOBILE  2017-05-27 06:43:58.0  2017-05-27 06:09:17.0   \n",
       "4  CYCLING_SPORT  TRACK_MOBILE  2017-07-23 14:46:45.0  2017-07-23 14:45:00.0   \n",
       "\n",
       "                end_time  duration_s  distance_km  calories_kcal   \n",
       "0  2017-05-13 14:37:51.0        2160     2.910000       209.2250  \\\n",
       "1  2018-04-06 06:41:18.0        1507     2.238073       178.0000   \n",
       "2  2017-11-13 04:34:04.0        1066     1.090000        87.6835   \n",
       "3  2017-05-27 06:43:17.0        2040     2.860000       214.7170   \n",
       "4  2017-07-23 15:11:10.0        1569     8.090000       306.2000   \n",
       "\n",
       "   altitude_min_m  altitude_max_m  speed_avg_kmh  speed_max_kmh  ascend_m   \n",
       "0         118.000         213.500       4.850000         7.2000   198.500  \\\n",
       "1         162.838         235.334       5.346425        10.4055   356.057   \n",
       "2         137.500         210.500       3.681051         6.3000    62.500   \n",
       "3         118.000         158.000       5.047059         8.1000    69.000   \n",
       "4         120.000         173.000      18.562141        39.6000    51.500   \n",
       "\n",
       "   descend_m  start_lat  start_long    end_lat   end_long  hydration_l  \n",
       "0    183.000  64.231913   27.729532  64.231913  27.729532          NaN  \n",
       "1    370.696  64.231726   27.729664  64.231726  27.729664     0.099905  \n",
       "2     71.000  64.231804   27.729534  64.231804  27.729534          NaN  \n",
       "3     70.000  64.231613   27.729586  64.231613  27.729586          NaN  \n",
       "4     54.000  64.220878   27.671177  64.220878  27.671177          NaN  "
      ]
     },
     "execution_count": 3,
     "metadata": {},
     "output_type": "execute_result"
    }
   ],
   "source": [
    "df_res.head()"
   ]
  },
  {
   "cell_type": "markdown",
   "id": "3daaa2b1",
   "metadata": {},
   "source": [
    "Lets take a look at the summary statistics of the numerical variables"
   ]
  },
  {
   "cell_type": "code",
   "execution_count": 4,
   "id": "31182835",
   "metadata": {},
   "outputs": [
    {
     "data": {
      "text/html": [
       "<div>\n",
       "<style scoped>\n",
       "    .dataframe tbody tr th:only-of-type {\n",
       "        vertical-align: middle;\n",
       "    }\n",
       "\n",
       "    .dataframe tbody tr th {\n",
       "        vertical-align: top;\n",
       "    }\n",
       "\n",
       "    .dataframe thead th {\n",
       "        text-align: right;\n",
       "    }\n",
       "</style>\n",
       "<table border=\"1\" class=\"dataframe\">\n",
       "  <thead>\n",
       "    <tr style=\"text-align: right;\">\n",
       "      <th></th>\n",
       "      <th>duration_s</th>\n",
       "      <th>distance_km</th>\n",
       "      <th>calories_kcal</th>\n",
       "      <th>altitude_min_m</th>\n",
       "      <th>altitude_max_m</th>\n",
       "      <th>speed_avg_kmh</th>\n",
       "      <th>speed_max_kmh</th>\n",
       "      <th>ascend_m</th>\n",
       "      <th>descend_m</th>\n",
       "      <th>start_lat</th>\n",
       "      <th>start_long</th>\n",
       "      <th>end_lat</th>\n",
       "      <th>end_long</th>\n",
       "      <th>hydration_l</th>\n",
       "    </tr>\n",
       "  </thead>\n",
       "  <tbody>\n",
       "    <tr>\n",
       "      <th>count</th>\n",
       "      <td>3456.000000</td>\n",
       "      <td>3456.000000</td>\n",
       "      <td>3455.000000</td>\n",
       "      <td>3048.000000</td>\n",
       "      <td>3048.000000</td>\n",
       "      <td>3456.000000</td>\n",
       "      <td>3043.000000</td>\n",
       "      <td>3045.000000</td>\n",
       "      <td>3045.000000</td>\n",
       "      <td>3042.000000</td>\n",
       "      <td>3042.000000</td>\n",
       "      <td>3042.000000</td>\n",
       "      <td>3042.000000</td>\n",
       "      <td>2534.000000</td>\n",
       "    </tr>\n",
       "    <tr>\n",
       "      <th>mean</th>\n",
       "      <td>2259.405961</td>\n",
       "      <td>3.006154</td>\n",
       "      <td>273.606885</td>\n",
       "      <td>137.234690</td>\n",
       "      <td>197.367589</td>\n",
       "      <td>4.884332</td>\n",
       "      <td>13.926859</td>\n",
       "      <td>96.053425</td>\n",
       "      <td>98.858494</td>\n",
       "      <td>63.906194</td>\n",
       "      <td>27.466158</td>\n",
       "      <td>63.906194</td>\n",
       "      <td>27.466158</td>\n",
       "      <td>0.154937</td>\n",
       "    </tr>\n",
       "    <tr>\n",
       "      <th>std</th>\n",
       "      <td>1208.975319</td>\n",
       "      <td>2.448839</td>\n",
       "      <td>181.303151</td>\n",
       "      <td>40.914059</td>\n",
       "      <td>34.045762</td>\n",
       "      <td>5.143595</td>\n",
       "      <td>27.954310</td>\n",
       "      <td>133.437502</td>\n",
       "      <td>133.384458</td>\n",
       "      <td>1.984757</td>\n",
       "      <td>2.176164</td>\n",
       "      <td>1.984757</td>\n",
       "      <td>2.176164</td>\n",
       "      <td>0.090523</td>\n",
       "    </tr>\n",
       "    <tr>\n",
       "      <th>min</th>\n",
       "      <td>7.000000</td>\n",
       "      <td>0.000000</td>\n",
       "      <td>1.000000</td>\n",
       "      <td>-500.500000</td>\n",
       "      <td>0.000000</td>\n",
       "      <td>0.000000</td>\n",
       "      <td>3.600000</td>\n",
       "      <td>0.000000</td>\n",
       "      <td>0.000000</td>\n",
       "      <td>40.761649</td>\n",
       "      <td>-0.375375</td>\n",
       "      <td>40.761649</td>\n",
       "      <td>-0.375375</td>\n",
       "      <td>0.000203</td>\n",
       "    </tr>\n",
       "    <tr>\n",
       "      <th>25%</th>\n",
       "      <td>1500.000000</td>\n",
       "      <td>1.676724</td>\n",
       "      <td>158.000000</td>\n",
       "      <td>132.841500</td>\n",
       "      <td>181.352750</td>\n",
       "      <td>4.109752</td>\n",
       "      <td>8.334020</td>\n",
       "      <td>47.864000</td>\n",
       "      <td>52.290000</td>\n",
       "      <td>64.231720</td>\n",
       "      <td>27.729426</td>\n",
       "      <td>64.231720</td>\n",
       "      <td>27.729426</td>\n",
       "      <td>0.093130</td>\n",
       "    </tr>\n",
       "    <tr>\n",
       "      <th>50%</th>\n",
       "      <td>2035.500000</td>\n",
       "      <td>2.494822</td>\n",
       "      <td>219.000000</td>\n",
       "      <td>145.422000</td>\n",
       "      <td>205.628000</td>\n",
       "      <td>4.798089</td>\n",
       "      <td>9.838770</td>\n",
       "      <td>74.500000</td>\n",
       "      <td>75.679900</td>\n",
       "      <td>64.231803</td>\n",
       "      <td>27.729544</td>\n",
       "      <td>64.231803</td>\n",
       "      <td>27.729544</td>\n",
       "      <td>0.132489</td>\n",
       "    </tr>\n",
       "    <tr>\n",
       "      <th>75%</th>\n",
       "      <td>2734.250000</td>\n",
       "      <td>3.702019</td>\n",
       "      <td>336.000000</td>\n",
       "      <td>161.576500</td>\n",
       "      <td>220.089250</td>\n",
       "      <td>5.269469</td>\n",
       "      <td>12.315600</td>\n",
       "      <td>112.649000</td>\n",
       "      <td>114.583000</td>\n",
       "      <td>64.231875</td>\n",
       "      <td>27.729684</td>\n",
       "      <td>64.231875</td>\n",
       "      <td>27.729684</td>\n",
       "      <td>0.189570</td>\n",
       "    </tr>\n",
       "    <tr>\n",
       "      <th>max</th>\n",
       "      <td>16742.000000</td>\n",
       "      <td>35.498642</td>\n",
       "      <td>1540.000000</td>\n",
       "      <td>283.500000</td>\n",
       "      <td>444.000000</td>\n",
       "      <td>267.428562</td>\n",
       "      <td>682.219000</td>\n",
       "      <td>4415.000000</td>\n",
       "      <td>4294.500000</td>\n",
       "      <td>68.909689</td>\n",
       "      <td>29.648962</td>\n",
       "      <td>68.909689</td>\n",
       "      <td>29.648962</td>\n",
       "      <td>0.769048</td>\n",
       "    </tr>\n",
       "  </tbody>\n",
       "</table>\n",
       "</div>"
      ],
      "text/plain": [
       "         duration_s  distance_km  calories_kcal  altitude_min_m   \n",
       "count   3456.000000  3456.000000    3455.000000     3048.000000  \\\n",
       "mean    2259.405961     3.006154     273.606885      137.234690   \n",
       "std     1208.975319     2.448839     181.303151       40.914059   \n",
       "min        7.000000     0.000000       1.000000     -500.500000   \n",
       "25%     1500.000000     1.676724     158.000000      132.841500   \n",
       "50%     2035.500000     2.494822     219.000000      145.422000   \n",
       "75%     2734.250000     3.702019     336.000000      161.576500   \n",
       "max    16742.000000    35.498642    1540.000000      283.500000   \n",
       "\n",
       "       altitude_max_m  speed_avg_kmh  speed_max_kmh     ascend_m    descend_m   \n",
       "count     3048.000000    3456.000000    3043.000000  3045.000000  3045.000000  \\\n",
       "mean       197.367589       4.884332      13.926859    96.053425    98.858494   \n",
       "std         34.045762       5.143595      27.954310   133.437502   133.384458   \n",
       "min          0.000000       0.000000       3.600000     0.000000     0.000000   \n",
       "25%        181.352750       4.109752       8.334020    47.864000    52.290000   \n",
       "50%        205.628000       4.798089       9.838770    74.500000    75.679900   \n",
       "75%        220.089250       5.269469      12.315600   112.649000   114.583000   \n",
       "max        444.000000     267.428562     682.219000  4415.000000  4294.500000   \n",
       "\n",
       "         start_lat   start_long      end_lat     end_long  hydration_l  \n",
       "count  3042.000000  3042.000000  3042.000000  3042.000000  2534.000000  \n",
       "mean     63.906194    27.466158    63.906194    27.466158     0.154937  \n",
       "std       1.984757     2.176164     1.984757     2.176164     0.090523  \n",
       "min      40.761649    -0.375375    40.761649    -0.375375     0.000203  \n",
       "25%      64.231720    27.729426    64.231720    27.729426     0.093130  \n",
       "50%      64.231803    27.729544    64.231803    27.729544     0.132489  \n",
       "75%      64.231875    27.729684    64.231875    27.729684     0.189570  \n",
       "max      68.909689    29.648962    68.909689    29.648962     0.769048  "
      ]
     },
     "execution_count": 4,
     "metadata": {},
     "output_type": "execute_result"
    }
   ],
   "source": [
    "df_res.describe()"
   ]
  },
  {
   "cell_type": "markdown",
   "id": "b00e3b67",
   "metadata": {},
   "source": [
    "### Dealing with null values "
   ]
  },
  {
   "cell_type": "markdown",
   "id": "b9d87144",
   "metadata": {},
   "source": [
    "Next we take a look at the missing values for each column. This information will be valuable when performing feature engineering for the predictive model. We will make decisions based which column to include and use for feature engineering based on the null values in these columns"
   ]
  },
  {
   "cell_type": "code",
   "execution_count": 5,
   "id": "e6077deb",
   "metadata": {},
   "outputs": [
    {
     "name": "stdout",
     "output_type": "stream",
     "text": [
      "sport               0\n",
      "source              0\n",
      "created_date        0\n",
      "start_time          0\n",
      "end_time            0\n",
      "duration_s          0\n",
      "distance_km         0\n",
      "calories_kcal       1\n",
      "altitude_min_m    408\n",
      "altitude_max_m    408\n",
      "speed_avg_kmh       0\n",
      "speed_max_kmh     413\n",
      "ascend_m          411\n",
      "descend_m         411\n",
      "start_lat         414\n",
      "start_long        414\n",
      "end_lat           414\n",
      "end_long          414\n",
      "hydration_l       922\n",
      "dtype: int64\n"
     ]
    }
   ],
   "source": [
    "print(df_res.isnull().sum())"
   ]
  },
  {
   "cell_type": "markdown",
   "id": "154a8c5c",
   "metadata": {},
   "source": [
    "We notice that altitude_min_m and altitude_max_m have the same number of null values which may indicate that when one of these variables is null the other is null aswell. Lets take a look at the rows with altitude_max_m = null."
   ]
  },
  {
   "cell_type": "code",
   "execution_count": 6,
   "id": "32f72162",
   "metadata": {},
   "outputs": [
    {
     "data": {
      "text/html": [
       "<div>\n",
       "<style scoped>\n",
       "    .dataframe tbody tr th:only-of-type {\n",
       "        vertical-align: middle;\n",
       "    }\n",
       "\n",
       "    .dataframe tbody tr th {\n",
       "        vertical-align: top;\n",
       "    }\n",
       "\n",
       "    .dataframe thead th {\n",
       "        text-align: right;\n",
       "    }\n",
       "</style>\n",
       "<table border=\"1\" class=\"dataframe\">\n",
       "  <thead>\n",
       "    <tr style=\"text-align: right;\">\n",
       "      <th></th>\n",
       "      <th>sport</th>\n",
       "      <th>source</th>\n",
       "      <th>created_date</th>\n",
       "      <th>start_time</th>\n",
       "      <th>end_time</th>\n",
       "      <th>duration_s</th>\n",
       "      <th>distance_km</th>\n",
       "      <th>calories_kcal</th>\n",
       "      <th>altitude_min_m</th>\n",
       "      <th>altitude_max_m</th>\n",
       "      <th>speed_avg_kmh</th>\n",
       "      <th>speed_max_kmh</th>\n",
       "      <th>ascend_m</th>\n",
       "      <th>descend_m</th>\n",
       "      <th>start_lat</th>\n",
       "      <th>start_long</th>\n",
       "      <th>end_lat</th>\n",
       "      <th>end_long</th>\n",
       "      <th>hydration_l</th>\n",
       "    </tr>\n",
       "  </thead>\n",
       "  <tbody>\n",
       "    <tr>\n",
       "      <th>8</th>\n",
       "      <td>WEIGHT_TRAINING</td>\n",
       "      <td>TRACK_MOBILE</td>\n",
       "      <td>2020-05-09 15:37:53.0</td>\n",
       "      <td>2020-05-09 15:36:29.0</td>\n",
       "      <td>2020-05-09 16:05:35.0</td>\n",
       "      <td>1745</td>\n",
       "      <td>0.0</td>\n",
       "      <td>290.0</td>\n",
       "      <td>NaN</td>\n",
       "      <td>NaN</td>\n",
       "      <td>0.0</td>\n",
       "      <td>NaN</td>\n",
       "      <td>NaN</td>\n",
       "      <td>NaN</td>\n",
       "      <td>NaN</td>\n",
       "      <td>NaN</td>\n",
       "      <td>NaN</td>\n",
       "      <td>NaN</td>\n",
       "      <td>0.152267</td>\n",
       "    </tr>\n",
       "    <tr>\n",
       "      <th>10</th>\n",
       "      <td>WEIGHT_TRAINING</td>\n",
       "      <td>INPUT_MANUAL_MOBILE</td>\n",
       "      <td>2020-01-22 18:01:18.0</td>\n",
       "      <td>2020-01-21 18:00:39.0</td>\n",
       "      <td>2020-01-21 18:45:39.0</td>\n",
       "      <td>2700</td>\n",
       "      <td>0.0</td>\n",
       "      <td>447.0</td>\n",
       "      <td>NaN</td>\n",
       "      <td>NaN</td>\n",
       "      <td>0.0</td>\n",
       "      <td>NaN</td>\n",
       "      <td>NaN</td>\n",
       "      <td>NaN</td>\n",
       "      <td>NaN</td>\n",
       "      <td>NaN</td>\n",
       "      <td>NaN</td>\n",
       "      <td>NaN</td>\n",
       "      <td>0.235600</td>\n",
       "    </tr>\n",
       "    <tr>\n",
       "      <th>17</th>\n",
       "      <td>WEIGHT_TRAINING</td>\n",
       "      <td>INPUT_MANUAL_MOBILE</td>\n",
       "      <td>2017-04-11 14:48:07.0</td>\n",
       "      <td>2017-04-11 11:47:00.0</td>\n",
       "      <td>2017-04-11 12:32:00.0</td>\n",
       "      <td>2700</td>\n",
       "      <td>0.0</td>\n",
       "      <td>442.5</td>\n",
       "      <td>NaN</td>\n",
       "      <td>NaN</td>\n",
       "      <td>0.0</td>\n",
       "      <td>NaN</td>\n",
       "      <td>NaN</td>\n",
       "      <td>NaN</td>\n",
       "      <td>NaN</td>\n",
       "      <td>NaN</td>\n",
       "      <td>NaN</td>\n",
       "      <td>NaN</td>\n",
       "      <td>NaN</td>\n",
       "    </tr>\n",
       "    <tr>\n",
       "      <th>21</th>\n",
       "      <td>WEIGHT_TRAINING</td>\n",
       "      <td>TRACK_MOBILE</td>\n",
       "      <td>2020-11-20 18:23:06.0</td>\n",
       "      <td>2020-11-20 18:22:03.0</td>\n",
       "      <td>2020-11-20 19:02:57.0</td>\n",
       "      <td>2452</td>\n",
       "      <td>0.0</td>\n",
       "      <td>407.0</td>\n",
       "      <td>NaN</td>\n",
       "      <td>NaN</td>\n",
       "      <td>0.0</td>\n",
       "      <td>NaN</td>\n",
       "      <td>NaN</td>\n",
       "      <td>NaN</td>\n",
       "      <td>NaN</td>\n",
       "      <td>NaN</td>\n",
       "      <td>NaN</td>\n",
       "      <td>NaN</td>\n",
       "      <td>0.213872</td>\n",
       "    </tr>\n",
       "    <tr>\n",
       "      <th>22</th>\n",
       "      <td>SWIMMING</td>\n",
       "      <td>INPUT_MANUAL_MOBILE</td>\n",
       "      <td>2018-02-27 13:08:30.0</td>\n",
       "      <td>2018-02-27 13:08:07.0</td>\n",
       "      <td>2018-02-27 13:38:07.0</td>\n",
       "      <td>1800</td>\n",
       "      <td>1.2</td>\n",
       "      <td>400.0</td>\n",
       "      <td>NaN</td>\n",
       "      <td>NaN</td>\n",
       "      <td>2.4</td>\n",
       "      <td>NaN</td>\n",
       "      <td>NaN</td>\n",
       "      <td>NaN</td>\n",
       "      <td>NaN</td>\n",
       "      <td>NaN</td>\n",
       "      <td>NaN</td>\n",
       "      <td>NaN</td>\n",
       "      <td>0.204220</td>\n",
       "    </tr>\n",
       "  </tbody>\n",
       "</table>\n",
       "</div>"
      ],
      "text/plain": [
       "              sport               source           created_date   \n",
       "8   WEIGHT_TRAINING         TRACK_MOBILE  2020-05-09 15:37:53.0  \\\n",
       "10  WEIGHT_TRAINING  INPUT_MANUAL_MOBILE  2020-01-22 18:01:18.0   \n",
       "17  WEIGHT_TRAINING  INPUT_MANUAL_MOBILE  2017-04-11 14:48:07.0   \n",
       "21  WEIGHT_TRAINING         TRACK_MOBILE  2020-11-20 18:23:06.0   \n",
       "22         SWIMMING  INPUT_MANUAL_MOBILE  2018-02-27 13:08:30.0   \n",
       "\n",
       "               start_time               end_time  duration_s  distance_km   \n",
       "8   2020-05-09 15:36:29.0  2020-05-09 16:05:35.0        1745          0.0  \\\n",
       "10  2020-01-21 18:00:39.0  2020-01-21 18:45:39.0        2700          0.0   \n",
       "17  2017-04-11 11:47:00.0  2017-04-11 12:32:00.0        2700          0.0   \n",
       "21  2020-11-20 18:22:03.0  2020-11-20 19:02:57.0        2452          0.0   \n",
       "22  2018-02-27 13:08:07.0  2018-02-27 13:38:07.0        1800          1.2   \n",
       "\n",
       "    calories_kcal  altitude_min_m  altitude_max_m  speed_avg_kmh   \n",
       "8           290.0             NaN             NaN            0.0  \\\n",
       "10          447.0             NaN             NaN            0.0   \n",
       "17          442.5             NaN             NaN            0.0   \n",
       "21          407.0             NaN             NaN            0.0   \n",
       "22          400.0             NaN             NaN            2.4   \n",
       "\n",
       "    speed_max_kmh  ascend_m  descend_m  start_lat  start_long  end_lat   \n",
       "8             NaN       NaN        NaN        NaN         NaN      NaN  \\\n",
       "10            NaN       NaN        NaN        NaN         NaN      NaN   \n",
       "17            NaN       NaN        NaN        NaN         NaN      NaN   \n",
       "21            NaN       NaN        NaN        NaN         NaN      NaN   \n",
       "22            NaN       NaN        NaN        NaN         NaN      NaN   \n",
       "\n",
       "    end_long  hydration_l  \n",
       "8        NaN     0.152267  \n",
       "10       NaN     0.235600  \n",
       "17       NaN          NaN  \n",
       "21       NaN     0.213872  \n",
       "22       NaN     0.204220  "
      ]
     },
     "execution_count": 6,
     "metadata": {},
     "output_type": "execute_result"
    }
   ],
   "source": [
    "df_res[df_res['speed_max_kmh'].isnull()].head()"
   ]
  },
  {
   "cell_type": "markdown",
   "id": "8dd3d3f9",
   "metadata": {},
   "source": [
    "Now we see that our guess was correct. It makes sense that the altitude values are null because the sports corresponding to these rows are such that do not require moving upwards or downwards. The same is the case with speed_max_kmh. There is no need to calculate speed for exercises like Weight training. We can therefore convert these values to 0 instead of keeping them as null values. The same logic applies to ascend_m and descend_m."
   ]
  },
  {
   "cell_type": "markdown",
   "id": "75f8c519",
   "metadata": {},
   "source": [
    "Conversion of null values to 0 so the columns can be utilized in the predictive model."
   ]
  },
  {
   "cell_type": "code",
   "execution_count": 7,
   "id": "593f7d8a",
   "metadata": {},
   "outputs": [],
   "source": [
    "df_res['speed_max_kmh'].fillna(0, inplace=True)\n",
    "df_res['altitude_min_m'].fillna(0, inplace=True)\n",
    "df_res['altitude_max_m'].fillna(0, inplace=True)\n",
    "df_res['ascend_m'].fillna(0, inplace=True)\n",
    "df_res['descend_m'].fillna(0, inplace=True)"
   ]
  },
  {
   "cell_type": "markdown",
   "id": "9a2e5441",
   "metadata": {},
   "source": [
    "Since we do not have much knowledge about the variable hydration_l and it has many null values we will remove this column\n"
   ]
  },
  {
   "cell_type": "code",
   "execution_count": 8,
   "id": "6f85339a",
   "metadata": {},
   "outputs": [],
   "source": [
    "df_res = df_res.drop(columns=['hydration_l'])"
   ]
  },
  {
   "cell_type": "markdown",
   "id": "849073c9",
   "metadata": {},
   "source": [
    "There is still a null value left in the calories_kcal. Lets take a look at that row"
   ]
  },
  {
   "cell_type": "code",
   "execution_count": 9,
   "id": "2a51c332",
   "metadata": {},
   "outputs": [
    {
     "data": {
      "text/html": [
       "<div>\n",
       "<style scoped>\n",
       "    .dataframe tbody tr th:only-of-type {\n",
       "        vertical-align: middle;\n",
       "    }\n",
       "\n",
       "    .dataframe tbody tr th {\n",
       "        vertical-align: top;\n",
       "    }\n",
       "\n",
       "    .dataframe thead th {\n",
       "        text-align: right;\n",
       "    }\n",
       "</style>\n",
       "<table border=\"1\" class=\"dataframe\">\n",
       "  <thead>\n",
       "    <tr style=\"text-align: right;\">\n",
       "      <th></th>\n",
       "      <th>sport</th>\n",
       "      <th>source</th>\n",
       "      <th>created_date</th>\n",
       "      <th>start_time</th>\n",
       "      <th>end_time</th>\n",
       "      <th>duration_s</th>\n",
       "      <th>distance_km</th>\n",
       "      <th>calories_kcal</th>\n",
       "      <th>altitude_min_m</th>\n",
       "      <th>altitude_max_m</th>\n",
       "      <th>speed_avg_kmh</th>\n",
       "      <th>speed_max_kmh</th>\n",
       "      <th>ascend_m</th>\n",
       "      <th>descend_m</th>\n",
       "      <th>start_lat</th>\n",
       "      <th>start_long</th>\n",
       "      <th>end_lat</th>\n",
       "      <th>end_long</th>\n",
       "    </tr>\n",
       "  </thead>\n",
       "  <tbody>\n",
       "    <tr>\n",
       "      <th>2761</th>\n",
       "      <td>WALKING</td>\n",
       "      <td>INPUT_MANUAL_MOBILE</td>\n",
       "      <td>2020-08-22 07:35:24.0</td>\n",
       "      <td>2020-08-22 07:35:03.0</td>\n",
       "      <td>2020-08-22 07:35:10.0</td>\n",
       "      <td>7</td>\n",
       "      <td>0.0</td>\n",
       "      <td>NaN</td>\n",
       "      <td>0.0</td>\n",
       "      <td>0.0</td>\n",
       "      <td>0.0</td>\n",
       "      <td>0.0</td>\n",
       "      <td>0.0</td>\n",
       "      <td>0.0</td>\n",
       "      <td>NaN</td>\n",
       "      <td>NaN</td>\n",
       "      <td>NaN</td>\n",
       "      <td>NaN</td>\n",
       "    </tr>\n",
       "  </tbody>\n",
       "</table>\n",
       "</div>"
      ],
      "text/plain": [
       "        sport               source           created_date   \n",
       "2761  WALKING  INPUT_MANUAL_MOBILE  2020-08-22 07:35:24.0  \\\n",
       "\n",
       "                 start_time               end_time  duration_s  distance_km   \n",
       "2761  2020-08-22 07:35:03.0  2020-08-22 07:35:10.0           7          0.0  \\\n",
       "\n",
       "      calories_kcal  altitude_min_m  altitude_max_m  speed_avg_kmh   \n",
       "2761            NaN             0.0             0.0            0.0  \\\n",
       "\n",
       "      speed_max_kmh  ascend_m  descend_m  start_lat  start_long  end_lat   \n",
       "2761            0.0       0.0        0.0        NaN         NaN      NaN  \\\n",
       "\n",
       "      end_long  \n",
       "2761       NaN  "
      ]
     },
     "execution_count": 9,
     "metadata": {},
     "output_type": "execute_result"
    }
   ],
   "source": [
    "df_res[df_res['calories_kcal'].isnull()]"
   ]
  },
  {
   "cell_type": "markdown",
   "id": "c34b9edc",
   "metadata": {},
   "source": [
    "It is safe to say that since the duration of this workout is only 7 seconds with all other metrics as 0 we can convert this null value to 0 aswell. Then we print the null values contained in the dataset to make sure none exist."
   ]
  },
  {
   "cell_type": "code",
   "execution_count": 10,
   "id": "d5e9ca65",
   "metadata": {},
   "outputs": [
    {
     "name": "stdout",
     "output_type": "stream",
     "text": [
      "sport               0\n",
      "source              0\n",
      "created_date        0\n",
      "start_time          0\n",
      "end_time            0\n",
      "duration_s          0\n",
      "distance_km         0\n",
      "calories_kcal       0\n",
      "altitude_min_m      0\n",
      "altitude_max_m      0\n",
      "speed_avg_kmh       0\n",
      "speed_max_kmh       0\n",
      "ascend_m            0\n",
      "descend_m           0\n",
      "start_lat         414\n",
      "start_long        414\n",
      "end_lat           414\n",
      "end_long          414\n",
      "dtype: int64\n"
     ]
    }
   ],
   "source": [
    "df_res['calories_kcal'].fillna(0, inplace=True)\n",
    "print(df_res.isnull().sum())"
   ]
  },
  {
   "cell_type": "markdown",
   "id": "e510a14a",
   "metadata": {},
   "source": [
    "Now we notice that the only variables with null values remaining in the dataset are the location information. Start and end points. We cannot set these values to 0 since it can be translated into meaning information for the location of the person. And these null values are not low in number so removing these rows will be a poor approach. We will move on without these variables and utilize the remaining variables for feature engineering."
   ]
  },
  {
   "cell_type": "code",
   "execution_count": 11,
   "id": "2375fe7f",
   "metadata": {},
   "outputs": [],
   "source": [
    "df_res = df_res.drop(columns=['start_lat','start_long','end_lat','end_long'])"
   ]
  },
  {
   "cell_type": "markdown",
   "id": "636f2257",
   "metadata": {},
   "source": [
    "### Categorical variable analysis"
   ]
  },
  {
   "cell_type": "markdown",
   "id": "97cc2a22",
   "metadata": {},
   "source": [
    "It can be seen that the first 2 variables seem to be categorical variables. Lets take a look into the unique categories available in these variables "
   ]
  },
  {
   "cell_type": "markdown",
   "id": "f35fa81c",
   "metadata": {},
   "source": [
    "#### Unique sports activites"
   ]
  },
  {
   "cell_type": "code",
   "execution_count": 12,
   "id": "73ca3eb6",
   "metadata": {
    "scrolled": true
   },
   "outputs": [
    {
     "name": "stdout",
     "output_type": "stream",
     "text": [
      "WALKING\n",
      "CYCLING_SPORT\n",
      "WEIGHT_TRAINING\n",
      "SKIING_CROSS_COUNTRY\n",
      "SWIMMING\n",
      "CROSSFIT\n",
      "RUNNING\n",
      "STAIR_CLIMBING\n",
      "RUNNING_CANICROSS\n",
      "BADMINTON\n",
      "ICE_SKATING\n",
      "CROSS_TRAINING\n",
      "CYCLING_TRANSPORTATION\n",
      "ROLLER_SKATING\n",
      "STRETCHING\n",
      "BEACH_VOLLEY\n",
      "FITNESS_WALKING\n",
      "Total sports: 17\n"
     ]
    }
   ],
   "source": [
    "# Extract unique categories in the 'Sport' column\n",
    "unique_sports = df_res['sport'].unique()\n",
    "\n",
    "# Print the unique categories\n",
    "for sport in unique_sports:\n",
    "    print(sport)\n",
    "    \n",
    "print(\"Total sports:\", len(unique_sports))"
   ]
  },
  {
   "cell_type": "markdown",
   "id": "7f3c56bf",
   "metadata": {},
   "source": [
    "####  Unique sources"
   ]
  },
  {
   "cell_type": "code",
   "execution_count": 13,
   "id": "04b907fa",
   "metadata": {},
   "outputs": [
    {
     "name": "stdout",
     "output_type": "stream",
     "text": [
      "TRACK_MOBILE\n",
      "INPUT_MANUAL_MOBILE\n",
      "Total sources: 2\n"
     ]
    }
   ],
   "source": [
    "# Extract unique categories in the 'Source' column\n",
    "unique_source = df_res['source'].unique()\n",
    "\n",
    "# Print the unique categories\n",
    "for source in unique_source:\n",
    "    print(source)\n",
    "\n",
    "print(\"Total sources:\", len(unique_source))"
   ]
  },
  {
   "cell_type": "markdown",
   "id": "fdeb0ca8",
   "metadata": {},
   "source": [
    "We see that there are 17 unique sports modes and 2 different sources"
   ]
  },
  {
   "cell_type": "markdown",
   "id": "a90263fc",
   "metadata": {},
   "source": [
    "Next lets take a look at the distribution of the distance covered and average speed during each activity"
   ]
  },
  {
   "cell_type": "code",
   "execution_count": 14,
   "id": "77cdb7c7",
   "metadata": {},
   "outputs": [
    {
     "data": {
      "image/png": "[encoded data removed]",
      "text/plain": [
       "<Figure size 640x480 with 1 Axes>"
      ]
     },
     "metadata": {},
     "output_type": "display_data"
    },
    {
     "data": {
      "image/png": "[encoded data removed]",
      "text/plain": [
       "<Figure size 640x480 with 1 Axes>"
      ]
     },
     "metadata": {},
     "output_type": "display_data"
    }
   ],
   "source": [
    "# Extract the 'distance_km' column for the histogram\n",
    "distance_data = df_res['distance_km']\n",
    "\n",
    "# Create a histogram\n",
    "plt.hist(distance_data, bins=30, color='skyblue', edgecolor='black')\n",
    "plt.xlabel('Distance (km)')\n",
    "plt.ylabel('Frequency')\n",
    "plt.title('Histogram of Distance (km)')\n",
    "plt.grid(True)\n",
    "\n",
    "# Show the histogram\n",
    "plt.show()\n",
    "# Extract the 'distance_km' column for the histogram\n",
    "speed_avg = df_res['speed_avg_kmh']\n",
    "\n",
    "# Create a histogram\n",
    "plt.hist(speed_avg, bins=150, color='skyblue', edgecolor='black')\n",
    "plt.xlabel('Avg Speed (kmh)')\n",
    "plt.ylabel('Frequency')\n",
    "plt.title('Histogram of Avg Speed (kmh)')\n",
    "plt.grid(True)\n",
    "\n",
    "# Show the histogram\n",
    "plt.show()"
   ]
  },
  {
   "cell_type": "markdown",
   "id": "a946011c",
   "metadata": {},
   "source": [
    "The histograms give us the insight that the user moves between 1-4 km the most during their exercise. While the average speed for many exercises is 0. They probably do not require moving from one place to another. Then the graph peaks at around 4-8 km/h. This makes sense as the user walks quite alot and this is average speed a human walks on. "
   ]
  },
  {
   "cell_type": "markdown",
   "id": "43a524da",
   "metadata": {},
   "source": [
    "# Feature Engineering"
   ]
  },
  {
   "cell_type": "markdown",
   "id": "46356a5c",
   "metadata": {},
   "source": [
    "For this section of our analysis we will be extracting new variables from existing columns that can prove to be benificial as predictors in the predictive model. The following new features are added to the dataset"
   ]
  },
  {
   "cell_type": "markdown",
   "id": "500935d9",
   "metadata": {},
   "source": [
    "#### Weekday"
   ]
  },
  {
   "cell_type": "code",
   "execution_count": 15,
   "id": "956a6bf1",
   "metadata": {},
   "outputs": [
    {
     "data": {
      "text/html": [
       "<div>\n",
       "<style scoped>\n",
       "    .dataframe tbody tr th:only-of-type {\n",
       "        vertical-align: middle;\n",
       "    }\n",
       "\n",
       "    .dataframe tbody tr th {\n",
       "        vertical-align: top;\n",
       "    }\n",
       "\n",
       "    .dataframe thead th {\n",
       "        text-align: right;\n",
       "    }\n",
       "</style>\n",
       "<table border=\"1\" class=\"dataframe\">\n",
       "  <thead>\n",
       "    <tr style=\"text-align: right;\">\n",
       "      <th></th>\n",
       "      <th>created_date</th>\n",
       "      <th>weekday</th>\n",
       "    </tr>\n",
       "  </thead>\n",
       "  <tbody>\n",
       "    <tr>\n",
       "      <th>0</th>\n",
       "      <td>2017-05-13 14:02:55</td>\n",
       "      <td>Saturday</td>\n",
       "    </tr>\n",
       "    <tr>\n",
       "      <th>1</th>\n",
       "      <td>2018-04-06 06:16:11</td>\n",
       "      <td>Friday</td>\n",
       "    </tr>\n",
       "    <tr>\n",
       "      <th>2</th>\n",
       "      <td>2017-11-13 04:18:37</td>\n",
       "      <td>Monday</td>\n",
       "    </tr>\n",
       "    <tr>\n",
       "      <th>3</th>\n",
       "      <td>2017-05-27 06:43:58</td>\n",
       "      <td>Saturday</td>\n",
       "    </tr>\n",
       "    <tr>\n",
       "      <th>4</th>\n",
       "      <td>2017-07-23 14:46:45</td>\n",
       "      <td>Sunday</td>\n",
       "    </tr>\n",
       "  </tbody>\n",
       "</table>\n",
       "</div>"
      ],
      "text/plain": [
       "         created_date   weekday\n",
       "0 2017-05-13 14:02:55  Saturday\n",
       "1 2018-04-06 06:16:11    Friday\n",
       "2 2017-11-13 04:18:37    Monday\n",
       "3 2017-05-27 06:43:58  Saturday\n",
       "4 2017-07-23 14:46:45    Sunday"
      ]
     },
     "execution_count": 15,
     "metadata": {},
     "output_type": "execute_result"
    }
   ],
   "source": [
    "# Convert the \"created_date\" column to a datetime object\n",
    "df_res['created_date'] = pd.to_datetime(df_res['created_date'])\n",
    "\n",
    "# Extract the weekday from the datetime\n",
    "df_res['weekday'] = df_res['created_date'].dt.strftime('%A')\n",
    "\n",
    "# Display the first few rows with the added 'weekday' column\n",
    "df_res[['created_date', 'weekday']].head()\n"
   ]
  },
  {
   "cell_type": "markdown",
   "id": "f447ff19",
   "metadata": {},
   "source": [
    "#### Month"
   ]
  },
  {
   "cell_type": "code",
   "execution_count": 16,
   "id": "8c53a0f2",
   "metadata": {},
   "outputs": [
    {
     "data": {
      "text/html": [
       "<div>\n",
       "<style scoped>\n",
       "    .dataframe tbody tr th:only-of-type {\n",
       "        vertical-align: middle;\n",
       "    }\n",
       "\n",
       "    .dataframe tbody tr th {\n",
       "        vertical-align: top;\n",
       "    }\n",
       "\n",
       "    .dataframe thead th {\n",
       "        text-align: right;\n",
       "    }\n",
       "</style>\n",
       "<table border=\"1\" class=\"dataframe\">\n",
       "  <thead>\n",
       "    <tr style=\"text-align: right;\">\n",
       "      <th></th>\n",
       "      <th>created_date</th>\n",
       "      <th>month</th>\n",
       "    </tr>\n",
       "  </thead>\n",
       "  <tbody>\n",
       "    <tr>\n",
       "      <th>0</th>\n",
       "      <td>2017-05-13 14:02:55</td>\n",
       "      <td>5</td>\n",
       "    </tr>\n",
       "    <tr>\n",
       "      <th>1</th>\n",
       "      <td>2018-04-06 06:16:11</td>\n",
       "      <td>4</td>\n",
       "    </tr>\n",
       "    <tr>\n",
       "      <th>2</th>\n",
       "      <td>2017-11-13 04:18:37</td>\n",
       "      <td>11</td>\n",
       "    </tr>\n",
       "    <tr>\n",
       "      <th>3</th>\n",
       "      <td>2017-05-27 06:43:58</td>\n",
       "      <td>5</td>\n",
       "    </tr>\n",
       "    <tr>\n",
       "      <th>4</th>\n",
       "      <td>2017-07-23 14:46:45</td>\n",
       "      <td>7</td>\n",
       "    </tr>\n",
       "  </tbody>\n",
       "</table>\n",
       "</div>"
      ],
      "text/plain": [
       "         created_date  month\n",
       "0 2017-05-13 14:02:55      5\n",
       "1 2018-04-06 06:16:11      4\n",
       "2 2017-11-13 04:18:37     11\n",
       "3 2017-05-27 06:43:58      5\n",
       "4 2017-07-23 14:46:45      7"
      ]
     },
     "execution_count": 16,
     "metadata": {},
     "output_type": "execute_result"
    }
   ],
   "source": [
    "# Extract the month from the datetime\n",
    "df_res['month'] = df_res['created_date'].dt.month\n",
    "\n",
    "# Display the first few rows with the added 'month' column\n",
    "df_res[['created_date', 'month']].head()"
   ]
  },
  {
   "cell_type": "markdown",
   "id": "2412eedc",
   "metadata": {},
   "source": [
    "#### Time of day"
   ]
  },
  {
   "cell_type": "code",
   "execution_count": 17,
   "id": "48a3b800",
   "metadata": {},
   "outputs": [
    {
     "data": {
      "text/html": [
       "<div>\n",
       "<style scoped>\n",
       "    .dataframe tbody tr th:only-of-type {\n",
       "        vertical-align: middle;\n",
       "    }\n",
       "\n",
       "    .dataframe tbody tr th {\n",
       "        vertical-align: top;\n",
       "    }\n",
       "\n",
       "    .dataframe thead th {\n",
       "        text-align: right;\n",
       "    }\n",
       "</style>\n",
       "<table border=\"1\" class=\"dataframe\">\n",
       "  <thead>\n",
       "    <tr style=\"text-align: right;\">\n",
       "      <th></th>\n",
       "      <th>start_time</th>\n",
       "      <th>start_hour</th>\n",
       "      <th>time_of_day</th>\n",
       "    </tr>\n",
       "  </thead>\n",
       "  <tbody>\n",
       "    <tr>\n",
       "      <th>0</th>\n",
       "      <td>2017-05-13 14:01:50</td>\n",
       "      <td>14</td>\n",
       "      <td>Afternoon</td>\n",
       "    </tr>\n",
       "    <tr>\n",
       "      <th>1</th>\n",
       "      <td>2018-04-06 06:16:10</td>\n",
       "      <td>6</td>\n",
       "      <td>Morning</td>\n",
       "    </tr>\n",
       "    <tr>\n",
       "      <th>2</th>\n",
       "      <td>2017-11-13 04:16:17</td>\n",
       "      <td>4</td>\n",
       "      <td>Night</td>\n",
       "    </tr>\n",
       "    <tr>\n",
       "      <th>3</th>\n",
       "      <td>2017-05-27 06:09:17</td>\n",
       "      <td>6</td>\n",
       "      <td>Morning</td>\n",
       "    </tr>\n",
       "    <tr>\n",
       "      <th>4</th>\n",
       "      <td>2017-07-23 14:45:00</td>\n",
       "      <td>14</td>\n",
       "      <td>Afternoon</td>\n",
       "    </tr>\n",
       "  </tbody>\n",
       "</table>\n",
       "</div>"
      ],
      "text/plain": [
       "           start_time  start_hour time_of_day\n",
       "0 2017-05-13 14:01:50          14   Afternoon\n",
       "1 2018-04-06 06:16:10           6     Morning\n",
       "2 2017-11-13 04:16:17           4       Night\n",
       "3 2017-05-27 06:09:17           6     Morning\n",
       "4 2017-07-23 14:45:00          14   Afternoon"
      ]
     },
     "execution_count": 17,
     "metadata": {},
     "output_type": "execute_result"
    }
   ],
   "source": [
    "\n",
    "# Convert the \"start_time\" column to a datetime object\n",
    "df_res['start_time'] = pd.to_datetime(df_res['start_time'])\n",
    "\n",
    "# Extract the hour from the \"start_time\" column\n",
    "df_res['start_hour'] = df_res['start_time'].dt.hour\n",
    "\n",
    "# Create a function to categorize the time of day\n",
    "def categorize_time(hour):\n",
    "    if 5 <= hour < 12:\n",
    "        return 'Morning'\n",
    "    elif 12 <= hour < 17:\n",
    "        return 'Afternoon'\n",
    "    elif 17 <= hour < 20:\n",
    "        return 'Evening'\n",
    "    else:\n",
    "        return 'Night'\n",
    "\n",
    "# Apply the categorize_time function to create a new variable\n",
    "df_res['time_of_day'] = df_res['start_hour'].apply(categorize_time)\n",
    "\n",
    "# Display the updated DataFrame\n",
    "df_res[['start_time', 'start_hour', 'time_of_day']].head()"
   ]
  },
  {
   "cell_type": "markdown",
   "id": "be4bfdcb",
   "metadata": {},
   "source": [
    "## Dependent variables for predictive model"
   ]
  },
  {
   "cell_type": "markdown",
   "id": "e47b2a1f",
   "metadata": {},
   "source": [
    "#### Next Exercise type"
   ]
  },
  {
   "cell_type": "markdown",
   "id": "c18ebd33",
   "metadata": {},
   "source": [
    "In order to predict the next exercise type we will first order the dataset in ascending order according to the created_date column. Then we will be able to see the next available exercise type in the row below"
   ]
  },
  {
   "cell_type": "code",
   "execution_count": 18,
   "id": "aad2d31c",
   "metadata": {},
   "outputs": [
    {
     "data": {
      "text/html": [
       "<div>\n",
       "<style scoped>\n",
       "    .dataframe tbody tr th:only-of-type {\n",
       "        vertical-align: middle;\n",
       "    }\n",
       "\n",
       "    .dataframe tbody tr th {\n",
       "        vertical-align: top;\n",
       "    }\n",
       "\n",
       "    .dataframe thead th {\n",
       "        text-align: right;\n",
       "    }\n",
       "</style>\n",
       "<table border=\"1\" class=\"dataframe\">\n",
       "  <thead>\n",
       "    <tr style=\"text-align: right;\">\n",
       "      <th></th>\n",
       "      <th>sport</th>\n",
       "      <th>created_date</th>\n",
       "    </tr>\n",
       "  </thead>\n",
       "  <tbody>\n",
       "    <tr>\n",
       "      <th>937</th>\n",
       "      <td>WALKING</td>\n",
       "      <td>2017-01-01 08:54:23</td>\n",
       "    </tr>\n",
       "    <tr>\n",
       "      <th>1448</th>\n",
       "      <td>WEIGHT_TRAINING</td>\n",
       "      <td>2017-01-01 15:02:04</td>\n",
       "    </tr>\n",
       "    <tr>\n",
       "      <th>771</th>\n",
       "      <td>WALKING</td>\n",
       "      <td>2017-01-01 17:47:03</td>\n",
       "    </tr>\n",
       "    <tr>\n",
       "      <th>509</th>\n",
       "      <td>WALKING</td>\n",
       "      <td>2017-01-02 08:57:23</td>\n",
       "    </tr>\n",
       "    <tr>\n",
       "      <th>2718</th>\n",
       "      <td>RUNNING</td>\n",
       "      <td>2017-01-02 16:20:51</td>\n",
       "    </tr>\n",
       "  </tbody>\n",
       "</table>\n",
       "</div>"
      ],
      "text/plain": [
       "                sport        created_date\n",
       "937           WALKING 2017-01-01 08:54:23\n",
       "1448  WEIGHT_TRAINING 2017-01-01 15:02:04\n",
       "771           WALKING 2017-01-01 17:47:03\n",
       "509           WALKING 2017-01-02 08:57:23\n",
       "2718          RUNNING 2017-01-02 16:20:51"
      ]
     },
     "execution_count": 18,
     "metadata": {},
     "output_type": "execute_result"
    }
   ],
   "source": [
    "# Sort the dataset in ascending order by \"created_date\"\n",
    "df_res = df_res.sort_values(by=\"created_date\")\n",
    "\n",
    "# Display the sorted dataset\n",
    "df_res[['sport', 'created_date']].head()"
   ]
  },
  {
   "cell_type": "markdown",
   "id": "963073ee",
   "metadata": {},
   "source": [
    "Now the next exercise for the first row is \"WEIGHT_TRAINING\" "
   ]
  },
  {
   "cell_type": "code",
   "execution_count": 19,
   "id": "975df80b",
   "metadata": {},
   "outputs": [],
   "source": [
    "# Create a new column \"Next_Sport\" with values from the next row\n",
    "df_res['Next_Sport'] = df_res['sport'].shift(-1)\n",
    "\n",
    "# Set the last entry in \"Next_Sport\" to an empty string\n",
    "df_res.at[len(df_res) - 1, 'Next_Sport'] = ''"
   ]
  },
  {
   "cell_type": "markdown",
   "id": "927e2fab",
   "metadata": {},
   "source": [
    "#### Next exercise Time"
   ]
  },
  {
   "cell_type": "code",
   "execution_count": 20,
   "id": "93f93d9d",
   "metadata": {},
   "outputs": [
    {
     "data": {
      "text/html": [
       "<div>\n",
       "<style scoped>\n",
       "    .dataframe tbody tr th:only-of-type {\n",
       "        vertical-align: middle;\n",
       "    }\n",
       "\n",
       "    .dataframe tbody tr th {\n",
       "        vertical-align: top;\n",
       "    }\n",
       "\n",
       "    .dataframe thead th {\n",
       "        text-align: right;\n",
       "    }\n",
       "</style>\n",
       "<table border=\"1\" class=\"dataframe\">\n",
       "  <thead>\n",
       "    <tr style=\"text-align: right;\">\n",
       "      <th></th>\n",
       "      <th>sport</th>\n",
       "      <th>source</th>\n",
       "      <th>created_date</th>\n",
       "      <th>start_time</th>\n",
       "      <th>end_time</th>\n",
       "      <th>duration_s</th>\n",
       "      <th>distance_km</th>\n",
       "      <th>calories_kcal</th>\n",
       "      <th>altitude_min_m</th>\n",
       "      <th>altitude_max_m</th>\n",
       "      <th>speed_avg_kmh</th>\n",
       "      <th>speed_max_kmh</th>\n",
       "      <th>ascend_m</th>\n",
       "      <th>descend_m</th>\n",
       "      <th>weekday</th>\n",
       "      <th>month</th>\n",
       "      <th>start_hour</th>\n",
       "      <th>time_of_day</th>\n",
       "      <th>Next_Sport</th>\n",
       "      <th>Next_Sport_Time</th>\n",
       "    </tr>\n",
       "  </thead>\n",
       "  <tbody>\n",
       "    <tr>\n",
       "      <th>937</th>\n",
       "      <td>WALKING</td>\n",
       "      <td>TRACK_MOBILE</td>\n",
       "      <td>2017-01-01 08:54:23</td>\n",
       "      <td>2017-01-01 08:53:04</td>\n",
       "      <td>2017-01-01 09:27:49.0</td>\n",
       "      <td>2084</td>\n",
       "      <td>2.15</td>\n",
       "      <td>171.651</td>\n",
       "      <td>145.5</td>\n",
       "      <td>198.0</td>\n",
       "      <td>3.714012</td>\n",
       "      <td>6.3</td>\n",
       "      <td>78.0</td>\n",
       "      <td>77.0</td>\n",
       "      <td>Sunday</td>\n",
       "      <td>1</td>\n",
       "      <td>8</td>\n",
       "      <td>Morning</td>\n",
       "      <td>WEIGHT_TRAINING</td>\n",
       "      <td>Afternoon</td>\n",
       "    </tr>\n",
       "    <tr>\n",
       "      <th>1448</th>\n",
       "      <td>WEIGHT_TRAINING</td>\n",
       "      <td>INPUT_MANUAL_MOBILE</td>\n",
       "      <td>2017-01-01 15:02:04</td>\n",
       "      <td>2017-01-01 14:01:00</td>\n",
       "      <td>2017-01-01 14:41:00.0</td>\n",
       "      <td>2400</td>\n",
       "      <td>0.00</td>\n",
       "      <td>393.333</td>\n",
       "      <td>0.0</td>\n",
       "      <td>0.0</td>\n",
       "      <td>0.000000</td>\n",
       "      <td>0.0</td>\n",
       "      <td>0.0</td>\n",
       "      <td>0.0</td>\n",
       "      <td>Sunday</td>\n",
       "      <td>1</td>\n",
       "      <td>14</td>\n",
       "      <td>Afternoon</td>\n",
       "      <td>WALKING</td>\n",
       "      <td>Evening</td>\n",
       "    </tr>\n",
       "    <tr>\n",
       "      <th>771</th>\n",
       "      <td>WALKING</td>\n",
       "      <td>TRACK_MOBILE</td>\n",
       "      <td>2017-01-01 17:47:03</td>\n",
       "      <td>2017-01-01 17:46:00</td>\n",
       "      <td>2017-01-01 18:12:07.0</td>\n",
       "      <td>1566</td>\n",
       "      <td>1.69</td>\n",
       "      <td>132.168</td>\n",
       "      <td>126.5</td>\n",
       "      <td>174.5</td>\n",
       "      <td>3.885057</td>\n",
       "      <td>5.4</td>\n",
       "      <td>28.0</td>\n",
       "      <td>34.5</td>\n",
       "      <td>Sunday</td>\n",
       "      <td>1</td>\n",
       "      <td>17</td>\n",
       "      <td>Evening</td>\n",
       "      <td>WALKING</td>\n",
       "      <td>Morning</td>\n",
       "    </tr>\n",
       "    <tr>\n",
       "      <th>509</th>\n",
       "      <td>WALKING</td>\n",
       "      <td>TRACK_MOBILE</td>\n",
       "      <td>2017-01-02 08:57:23</td>\n",
       "      <td>2017-01-02 08:55:52</td>\n",
       "      <td>2017-01-02 09:26:06.0</td>\n",
       "      <td>1812</td>\n",
       "      <td>2.07</td>\n",
       "      <td>157.828</td>\n",
       "      <td>81.0</td>\n",
       "      <td>201.0</td>\n",
       "      <td>4.112583</td>\n",
       "      <td>6.3</td>\n",
       "      <td>119.5</td>\n",
       "      <td>47.5</td>\n",
       "      <td>Monday</td>\n",
       "      <td>1</td>\n",
       "      <td>8</td>\n",
       "      <td>Morning</td>\n",
       "      <td>RUNNING</td>\n",
       "      <td>Afternoon</td>\n",
       "    </tr>\n",
       "    <tr>\n",
       "      <th>2718</th>\n",
       "      <td>RUNNING</td>\n",
       "      <td>TRACK_MOBILE</td>\n",
       "      <td>2017-01-02 16:20:51</td>\n",
       "      <td>2017-01-02 16:13:34</td>\n",
       "      <td>2017-01-02 16:54:52.0</td>\n",
       "      <td>2444</td>\n",
       "      <td>5.87</td>\n",
       "      <td>591.404</td>\n",
       "      <td>97.5</td>\n",
       "      <td>159.5</td>\n",
       "      <td>8.646481</td>\n",
       "      <td>12.6</td>\n",
       "      <td>137.5</td>\n",
       "      <td>140.5</td>\n",
       "      <td>Monday</td>\n",
       "      <td>1</td>\n",
       "      <td>16</td>\n",
       "      <td>Afternoon</td>\n",
       "      <td>WALKING</td>\n",
       "      <td>Morning</td>\n",
       "    </tr>\n",
       "  </tbody>\n",
       "</table>\n",
       "</div>"
      ],
      "text/plain": [
       "                sport               source        created_date   \n",
       "937           WALKING         TRACK_MOBILE 2017-01-01 08:54:23  \\\n",
       "1448  WEIGHT_TRAINING  INPUT_MANUAL_MOBILE 2017-01-01 15:02:04   \n",
       "771           WALKING         TRACK_MOBILE 2017-01-01 17:47:03   \n",
       "509           WALKING         TRACK_MOBILE 2017-01-02 08:57:23   \n",
       "2718          RUNNING         TRACK_MOBILE 2017-01-02 16:20:51   \n",
       "\n",
       "              start_time               end_time  duration_s  distance_km   \n",
       "937  2017-01-01 08:53:04  2017-01-01 09:27:49.0        2084         2.15  \\\n",
       "1448 2017-01-01 14:01:00  2017-01-01 14:41:00.0        2400         0.00   \n",
       "771  2017-01-01 17:46:00  2017-01-01 18:12:07.0        1566         1.69   \n",
       "509  2017-01-02 08:55:52  2017-01-02 09:26:06.0        1812         2.07   \n",
       "2718 2017-01-02 16:13:34  2017-01-02 16:54:52.0        2444         5.87   \n",
       "\n",
       "      calories_kcal  altitude_min_m  altitude_max_m  speed_avg_kmh   \n",
       "937         171.651           145.5           198.0       3.714012  \\\n",
       "1448        393.333             0.0             0.0       0.000000   \n",
       "771         132.168           126.5           174.5       3.885057   \n",
       "509         157.828            81.0           201.0       4.112583   \n",
       "2718        591.404            97.5           159.5       8.646481   \n",
       "\n",
       "      speed_max_kmh  ascend_m  descend_m weekday  month  start_hour   \n",
       "937             6.3      78.0       77.0  Sunday      1           8  \\\n",
       "1448            0.0       0.0        0.0  Sunday      1          14   \n",
       "771             5.4      28.0       34.5  Sunday      1          17   \n",
       "509             6.3     119.5       47.5  Monday      1           8   \n",
       "2718           12.6     137.5      140.5  Monday      1          16   \n",
       "\n",
       "     time_of_day       Next_Sport Next_Sport_Time  \n",
       "937      Morning  WEIGHT_TRAINING       Afternoon  \n",
       "1448   Afternoon          WALKING         Evening  \n",
       "771      Evening          WALKING         Morning  \n",
       "509      Morning          RUNNING       Afternoon  \n",
       "2718   Afternoon          WALKING         Morning  "
      ]
     },
     "execution_count": 20,
     "metadata": {},
     "output_type": "execute_result"
    }
   ],
   "source": [
    "# Create a new column \"Next_Sport\" with values from the next row\n",
    "df_res['Next_Sport_Time'] = df_res['time_of_day'].shift(-1)\n",
    "\n",
    "# Set the last entry in \"Next_Sport\" to an empty string\n",
    "df_res.at[len(df_res) - 1, 'Next_Sport_Time'] = ''\n",
    "df_res.head()"
   ]
  },
  {
   "cell_type": "markdown",
   "id": "7d65caa9",
   "metadata": {},
   "source": [
    "Since the last row of the new predictor columns will be empty we will remove the last row as the next activity information is not available"
   ]
  },
  {
   "cell_type": "code",
   "execution_count": 21,
   "id": "4371b380",
   "metadata": {},
   "outputs": [],
   "source": [
    "df_res = df_res.drop(df_res[df_res['Next_Sport'] == ''].index)\n",
    "df_res = df_res.dropna(subset = ['Next_Sport'])"
   ]
  },
  {
   "cell_type": "code",
   "execution_count": 22,
   "id": "75b4d6da",
   "metadata": {},
   "outputs": [
    {
     "data": {
      "text/html": [
       "<div>\n",
       "<style scoped>\n",
       "    .dataframe tbody tr th:only-of-type {\n",
       "        vertical-align: middle;\n",
       "    }\n",
       "\n",
       "    .dataframe tbody tr th {\n",
       "        vertical-align: top;\n",
       "    }\n",
       "\n",
       "    .dataframe thead th {\n",
       "        text-align: right;\n",
       "    }\n",
       "</style>\n",
       "<table border=\"1\" class=\"dataframe\">\n",
       "  <thead>\n",
       "    <tr style=\"text-align: right;\">\n",
       "      <th></th>\n",
       "      <th>sport</th>\n",
       "      <th>source</th>\n",
       "      <th>created_date</th>\n",
       "      <th>start_time</th>\n",
       "      <th>end_time</th>\n",
       "      <th>duration_s</th>\n",
       "      <th>distance_km</th>\n",
       "      <th>calories_kcal</th>\n",
       "      <th>altitude_min_m</th>\n",
       "      <th>altitude_max_m</th>\n",
       "      <th>speed_avg_kmh</th>\n",
       "      <th>speed_max_kmh</th>\n",
       "      <th>ascend_m</th>\n",
       "      <th>descend_m</th>\n",
       "      <th>weekday</th>\n",
       "      <th>month</th>\n",
       "      <th>start_hour</th>\n",
       "      <th>time_of_day</th>\n",
       "      <th>Next_Sport</th>\n",
       "      <th>Next_Sport_Time</th>\n",
       "    </tr>\n",
       "  </thead>\n",
       "  <tbody>\n",
       "  </tbody>\n",
       "</table>\n",
       "</div>"
      ],
      "text/plain": [
       "Empty DataFrame\n",
       "Columns: [sport, source, created_date, start_time, end_time, duration_s, distance_km, calories_kcal, altitude_min_m, altitude_max_m, speed_avg_kmh, speed_max_kmh, ascend_m, descend_m, weekday, month, start_hour, time_of_day, Next_Sport, Next_Sport_Time]\n",
       "Index: []"
      ]
     },
     "execution_count": 22,
     "metadata": {},
     "output_type": "execute_result"
    }
   ],
   "source": [
    "df_res[df_res['Next_Sport'].isnull()]"
   ]
  },
  {
   "cell_type": "markdown",
   "id": "6dca8416",
   "metadata": {},
   "source": [
    "Now that we have all the features, we will proceed to the predictive modelling section. However proceeding we make our dataset tidy so that it only contains relavent features required in the modelling phase. We now select the columns to keep and create a new dataset from these columns. "
   ]
  },
  {
   "cell_type": "code",
   "execution_count": 23,
   "id": "67ed4d18",
   "metadata": {},
   "outputs": [
    {
     "data": {
      "text/plain": [
       "(3454, 17)"
      ]
     },
     "execution_count": 23,
     "metadata": {},
     "output_type": "execute_result"
    }
   ],
   "source": [
    "columns_to_keep = ['sport', 'source', 'duration_s','distance_km','calories_kcal','altitude_min_m','altitude_max_m', 'speed_avg_kmh', 'speed_max_kmh', 'ascend_m', 'descend_m','weekday','month','start_hour','time_of_day','Next_Sport','Next_Sport_Time'] \n",
    "data = df_res[columns_to_keep]\n",
    "data.shape"
   ]
  },
  {
   "cell_type": "markdown",
   "id": "b35298b7",
   "metadata": {},
   "source": [
    "# Predictive modelling and evaluation"
   ]
  },
  {
   "cell_type": "markdown",
   "id": "0ae3a4a8",
   "metadata": {},
   "source": [
    "Before proceeding lets take a look at the dataset that will be used for predictive modelling. Next_Sport and Next_Sport_Time are the response variables. We will be using the random forest classifier to predict the next sport and next time of sport aswell."
   ]
  },
  {
   "cell_type": "code",
   "execution_count": 24,
   "id": "98874593",
   "metadata": {},
   "outputs": [
    {
     "data": {
      "text/html": [
       "<div>\n",
       "<style scoped>\n",
       "    .dataframe tbody tr th:only-of-type {\n",
       "        vertical-align: middle;\n",
       "    }\n",
       "\n",
       "    .dataframe tbody tr th {\n",
       "        vertical-align: top;\n",
       "    }\n",
       "\n",
       "    .dataframe thead th {\n",
       "        text-align: right;\n",
       "    }\n",
       "</style>\n",
       "<table border=\"1\" class=\"dataframe\">\n",
       "  <thead>\n",
       "    <tr style=\"text-align: right;\">\n",
       "      <th></th>\n",
       "      <th>sport</th>\n",
       "      <th>source</th>\n",
       "      <th>duration_s</th>\n",
       "      <th>distance_km</th>\n",
       "      <th>calories_kcal</th>\n",
       "      <th>altitude_min_m</th>\n",
       "      <th>altitude_max_m</th>\n",
       "      <th>speed_avg_kmh</th>\n",
       "      <th>speed_max_kmh</th>\n",
       "      <th>ascend_m</th>\n",
       "      <th>descend_m</th>\n",
       "      <th>weekday</th>\n",
       "      <th>month</th>\n",
       "      <th>start_hour</th>\n",
       "      <th>time_of_day</th>\n",
       "      <th>Next_Sport</th>\n",
       "      <th>Next_Sport_Time</th>\n",
       "    </tr>\n",
       "  </thead>\n",
       "  <tbody>\n",
       "    <tr>\n",
       "      <th>937</th>\n",
       "      <td>WALKING</td>\n",
       "      <td>TRACK_MOBILE</td>\n",
       "      <td>2084</td>\n",
       "      <td>2.15</td>\n",
       "      <td>171.651</td>\n",
       "      <td>145.5</td>\n",
       "      <td>198.0</td>\n",
       "      <td>3.714012</td>\n",
       "      <td>6.3</td>\n",
       "      <td>78.0</td>\n",
       "      <td>77.0</td>\n",
       "      <td>Sunday</td>\n",
       "      <td>1</td>\n",
       "      <td>8</td>\n",
       "      <td>Morning</td>\n",
       "      <td>WEIGHT_TRAINING</td>\n",
       "      <td>Afternoon</td>\n",
       "    </tr>\n",
       "    <tr>\n",
       "      <th>1448</th>\n",
       "      <td>WEIGHT_TRAINING</td>\n",
       "      <td>INPUT_MANUAL_MOBILE</td>\n",
       "      <td>2400</td>\n",
       "      <td>0.00</td>\n",
       "      <td>393.333</td>\n",
       "      <td>0.0</td>\n",
       "      <td>0.0</td>\n",
       "      <td>0.000000</td>\n",
       "      <td>0.0</td>\n",
       "      <td>0.0</td>\n",
       "      <td>0.0</td>\n",
       "      <td>Sunday</td>\n",
       "      <td>1</td>\n",
       "      <td>14</td>\n",
       "      <td>Afternoon</td>\n",
       "      <td>WALKING</td>\n",
       "      <td>Evening</td>\n",
       "    </tr>\n",
       "    <tr>\n",
       "      <th>771</th>\n",
       "      <td>WALKING</td>\n",
       "      <td>TRACK_MOBILE</td>\n",
       "      <td>1566</td>\n",
       "      <td>1.69</td>\n",
       "      <td>132.168</td>\n",
       "      <td>126.5</td>\n",
       "      <td>174.5</td>\n",
       "      <td>3.885057</td>\n",
       "      <td>5.4</td>\n",
       "      <td>28.0</td>\n",
       "      <td>34.5</td>\n",
       "      <td>Sunday</td>\n",
       "      <td>1</td>\n",
       "      <td>17</td>\n",
       "      <td>Evening</td>\n",
       "      <td>WALKING</td>\n",
       "      <td>Morning</td>\n",
       "    </tr>\n",
       "    <tr>\n",
       "      <th>509</th>\n",
       "      <td>WALKING</td>\n",
       "      <td>TRACK_MOBILE</td>\n",
       "      <td>1812</td>\n",
       "      <td>2.07</td>\n",
       "      <td>157.828</td>\n",
       "      <td>81.0</td>\n",
       "      <td>201.0</td>\n",
       "      <td>4.112583</td>\n",
       "      <td>6.3</td>\n",
       "      <td>119.5</td>\n",
       "      <td>47.5</td>\n",
       "      <td>Monday</td>\n",
       "      <td>1</td>\n",
       "      <td>8</td>\n",
       "      <td>Morning</td>\n",
       "      <td>RUNNING</td>\n",
       "      <td>Afternoon</td>\n",
       "    </tr>\n",
       "    <tr>\n",
       "      <th>2718</th>\n",
       "      <td>RUNNING</td>\n",
       "      <td>TRACK_MOBILE</td>\n",
       "      <td>2444</td>\n",
       "      <td>5.87</td>\n",
       "      <td>591.404</td>\n",
       "      <td>97.5</td>\n",
       "      <td>159.5</td>\n",
       "      <td>8.646481</td>\n",
       "      <td>12.6</td>\n",
       "      <td>137.5</td>\n",
       "      <td>140.5</td>\n",
       "      <td>Monday</td>\n",
       "      <td>1</td>\n",
       "      <td>16</td>\n",
       "      <td>Afternoon</td>\n",
       "      <td>WALKING</td>\n",
       "      <td>Morning</td>\n",
       "    </tr>\n",
       "  </tbody>\n",
       "</table>\n",
       "</div>"
      ],
      "text/plain": [
       "                sport               source  duration_s  distance_km   \n",
       "937           WALKING         TRACK_MOBILE        2084         2.15  \\\n",
       "1448  WEIGHT_TRAINING  INPUT_MANUAL_MOBILE        2400         0.00   \n",
       "771           WALKING         TRACK_MOBILE        1566         1.69   \n",
       "509           WALKING         TRACK_MOBILE        1812         2.07   \n",
       "2718          RUNNING         TRACK_MOBILE        2444         5.87   \n",
       "\n",
       "      calories_kcal  altitude_min_m  altitude_max_m  speed_avg_kmh   \n",
       "937         171.651           145.5           198.0       3.714012  \\\n",
       "1448        393.333             0.0             0.0       0.000000   \n",
       "771         132.168           126.5           174.5       3.885057   \n",
       "509         157.828            81.0           201.0       4.112583   \n",
       "2718        591.404            97.5           159.5       8.646481   \n",
       "\n",
       "      speed_max_kmh  ascend_m  descend_m weekday  month  start_hour   \n",
       "937             6.3      78.0       77.0  Sunday      1           8  \\\n",
       "1448            0.0       0.0        0.0  Sunday      1          14   \n",
       "771             5.4      28.0       34.5  Sunday      1          17   \n",
       "509             6.3     119.5       47.5  Monday      1           8   \n",
       "2718           12.6     137.5      140.5  Monday      1          16   \n",
       "\n",
       "     time_of_day       Next_Sport Next_Sport_Time  \n",
       "937      Morning  WEIGHT_TRAINING       Afternoon  \n",
       "1448   Afternoon          WALKING         Evening  \n",
       "771      Evening          WALKING         Morning  \n",
       "509      Morning          RUNNING       Afternoon  \n",
       "2718   Afternoon          WALKING         Morning  "
      ]
     },
     "execution_count": 24,
     "metadata": {},
     "output_type": "execute_result"
    }
   ],
   "source": [
    "data.head()"
   ]
  },
  {
   "cell_type": "markdown",
   "id": "18dcb8f9",
   "metadata": {},
   "source": [
    "Lets deal with the categorical variables using one hot encoding technique"
   ]
  },
  {
   "cell_type": "code",
   "execution_count": 25,
   "id": "b748ade0",
   "metadata": {},
   "outputs": [],
   "source": [
    "# # Encoding categorical variables (e.g., one-hot encoding for 'time_of_day' and 'weekday')\n",
    "data = pd.get_dummies(data, columns=['time_of_day', 'weekday','sport','source'], drop_first=True)"
   ]
  },
  {
   "cell_type": "code",
   "execution_count": 26,
   "id": "6015599b",
   "metadata": {},
   "outputs": [],
   "source": [
    "# Define the features (X) and the target variables (y)\n",
    "X = data.drop(['Next_Sport', 'Next_Sport_Time'], axis=1)\n",
    "y_next_sport = data['Next_Sport']\n",
    "y_next_sport_time = data['Next_Sport_Time']"
   ]
  },
  {
   "cell_type": "markdown",
   "id": "4b4d80c4",
   "metadata": {},
   "source": [
    "Next we split the dataset into 70% training and 30% testing."
   ]
  },
  {
   "cell_type": "code",
   "execution_count": 27,
   "id": "e1d70f25",
   "metadata": {},
   "outputs": [],
   "source": [
    "\n",
    "X_train, X_test, y_next_sport_train, y_next_sport_test, y_next_sport_time_train, y_next_sport_time_test = train_test_split(\n",
    "    X, y_next_sport, y_next_sport_time, test_size=0.3,random_state=42\n",
    ")\n",
    "     "
   ]
  },
  {
   "cell_type": "markdown",
   "id": "39c70a19",
   "metadata": {},
   "source": [
    "#### Random Forest implementation for Next_Sport"
   ]
  },
  {
   "cell_type": "code",
   "execution_count": 28,
   "id": "1d5b69c0",
   "metadata": {},
   "outputs": [],
   "source": [
    "rf_classifier_next_sport = RandomForestClassifier(n_estimators=100, random_state=42)\n",
    "rf_classifier_next_sport.fit(X_train, y_next_sport_train)\n",
    "\n",
    "# Predict 'Next_Sport' on the test set\n",
    "y_next_sport_pred = rf_classifier_next_sport.predict(X_test)"
   ]
  },
  {
   "cell_type": "markdown",
   "id": "b9ee9ce6",
   "metadata": {},
   "source": [
    "Model analysis"
   ]
  },
  {
   "cell_type": "code",
   "execution_count": 29,
   "id": "e9395d0f",
   "metadata": {},
   "outputs": [
    {
     "name": "stdout",
     "output_type": "stream",
     "text": [
      "Accuracy for Next_Sport: 0.7753134040501446\n",
      "Classification Report for Next_Sport:\n",
      "                         precision    recall  f1-score   support\n",
      "\n",
      "             BADMINTON       0.00      0.00      0.00         9\n",
      "              CROSSFIT       0.00      0.00      0.00         2\n",
      "        CROSS_TRAINING       0.00      0.00      0.00         2\n",
      "         CYCLING_SPORT       0.00      0.00      0.00        17\n",
      "CYCLING_TRANSPORTATION       0.00      0.00      0.00        25\n",
      "       FITNESS_WALKING       0.00      0.00      0.00         1\n",
      "           ICE_SKATING       0.00      0.00      0.00        13\n",
      "        ROLLER_SKATING       0.00      0.00      0.00         0\n",
      "               RUNNING       0.00      0.00      0.00        12\n",
      "     RUNNING_CANICROSS       0.00      0.00      0.00        27\n",
      "  SKIING_CROSS_COUNTRY       0.00      0.00      0.00        29\n",
      "        STAIR_CLIMBING       0.00      0.00      0.00         4\n",
      "            STRETCHING       0.00      0.00      0.00         1\n",
      "              SWIMMING       0.00      0.00      0.00        37\n",
      "               WALKING       0.78      1.00      0.87       808\n",
      "       WEIGHT_TRAINING       0.00      0.00      0.00        50\n",
      "\n",
      "              accuracy                           0.78      1037\n",
      "             macro avg       0.05      0.06      0.05      1037\n",
      "          weighted avg       0.61      0.78      0.68      1037\n",
      "\n"
     ]
    },
    {
     "name": "stderr",
     "output_type": "stream",
     "text": [
      "/Library/Frameworks/Python.framework/Versions/3.11/lib/python3.11/site-packages/sklearn/metrics/_classification.py:1344: UndefinedMetricWarning: Precision and F-score are ill-defined and being set to 0.0 in labels with no predicted samples. Use `zero_division` parameter to control this behavior.\n",
      "  _warn_prf(average, modifier, msg_start, len(result))\n",
      "/Library/Frameworks/Python.framework/Versions/3.11/lib/python3.11/site-packages/sklearn/metrics/_classification.py:1344: UndefinedMetricWarning: Recall and F-score are ill-defined and being set to 0.0 in labels with no true samples. Use `zero_division` parameter to control this behavior.\n",
      "  _warn_prf(average, modifier, msg_start, len(result))\n",
      "/Library/Frameworks/Python.framework/Versions/3.11/lib/python3.11/site-packages/sklearn/metrics/_classification.py:1344: UndefinedMetricWarning: Precision and F-score are ill-defined and being set to 0.0 in labels with no predicted samples. Use `zero_division` parameter to control this behavior.\n",
      "  _warn_prf(average, modifier, msg_start, len(result))\n",
      "/Library/Frameworks/Python.framework/Versions/3.11/lib/python3.11/site-packages/sklearn/metrics/_classification.py:1344: UndefinedMetricWarning: Recall and F-score are ill-defined and being set to 0.0 in labels with no true samples. Use `zero_division` parameter to control this behavior.\n",
      "  _warn_prf(average, modifier, msg_start, len(result))\n",
      "/Library/Frameworks/Python.framework/Versions/3.11/lib/python3.11/site-packages/sklearn/metrics/_classification.py:1344: UndefinedMetricWarning: Precision and F-score are ill-defined and being set to 0.0 in labels with no predicted samples. Use `zero_division` parameter to control this behavior.\n",
      "  _warn_prf(average, modifier, msg_start, len(result))\n",
      "/Library/Frameworks/Python.framework/Versions/3.11/lib/python3.11/site-packages/sklearn/metrics/_classification.py:1344: UndefinedMetricWarning: Recall and F-score are ill-defined and being set to 0.0 in labels with no true samples. Use `zero_division` parameter to control this behavior.\n",
      "  _warn_prf(average, modifier, msg_start, len(result))\n"
     ]
    }
   ],
   "source": [
    "# Evaluate the models\n",
    "print(\"Accuracy for Next_Sport:\", accuracy_score(y_next_sport_test, y_next_sport_pred))\n",
    "print(\"Classification Report for Next_Sport:\\n\", classification_report(y_next_sport_test, y_next_sport_pred))"
   ]
  },
  {
   "cell_type": "markdown",
   "id": "618b6386",
   "metadata": {},
   "source": [
    "#### Random Forest implementation for Next_Sport_Time"
   ]
  },
  {
   "cell_type": "code",
   "execution_count": 30,
   "id": "c0f3a826",
   "metadata": {},
   "outputs": [],
   "source": [
    "# Initialize and train a Random Forest Classifier for 'Next_Sport_Time'\n",
    "rf_classifier_next_sport_time = RandomForestClassifier(n_estimators=100, random_state=42)\n",
    "rf_classifier_next_sport_time.fit(X_train, y_next_sport_time_train)\n",
    "\n",
    "# Predict 'Next_Sport_Time' on the test set\n",
    "y_next_sport_time_pred = rf_classifier_next_sport_time.predict(X_test)"
   ]
  },
  {
   "cell_type": "markdown",
   "id": "740c660b",
   "metadata": {},
   "source": [
    "Model analysis"
   ]
  },
  {
   "cell_type": "code",
   "execution_count": 31,
   "id": "b3cdeaa0",
   "metadata": {},
   "outputs": [
    {
     "name": "stdout",
     "output_type": "stream",
     "text": [
      "Accuracy for Next_Sport_Time: 0.639344262295082\n",
      "Classification Report for Next_Sport_Time:\n",
      "               precision    recall  f1-score   support\n",
      "\n",
      "   Afternoon       0.65      0.83      0.73       414\n",
      "     Evening       0.39      0.06      0.10       150\n",
      "     Morning       0.65      0.74      0.69       403\n",
      "       Night       0.46      0.16      0.23        70\n",
      "\n",
      "    accuracy                           0.64      1037\n",
      "   macro avg       0.54      0.45      0.44      1037\n",
      "weighted avg       0.60      0.64      0.59      1037\n",
      "\n"
     ]
    }
   ],
   "source": [
    "# Evaluate the models for 'Next_Sport_Time'\n",
    "print(\"Accuracy for Next_Sport_Time:\", accuracy_score(y_next_sport_time_test, y_next_sport_time_pred))\n",
    "print(\"Classification Report for Next_Sport_Time:\\n\", classification_report(y_next_sport_time_test, y_next_sport_time_pred))"
   ]
  },
  {
   "cell_type": "markdown",
   "id": "62d5a030",
   "metadata": {},
   "source": [
    "# Conclusion"
   ]
  },
  {
   "cell_type": "markdown",
   "id": "19d5d88a",
   "metadata": {},
   "source": [
    "We started the analysis of sports activities with a raw data set containing strucutes within structures in the form of json. When loading the dataset we made sure to keep it in a simple 2D dataframe by extracting useful information from structures in the json. The goal of the analysis was to predict the next exercise and time of the exercise. We explored the data through pandas and visualised it aswell in order to understand it better. Null values were either dealt with or the columns containing many null values were removed. We then moved on to feature engineering in which multiple new features were introduced from existing features. We then chose Random Forest Classifier to predict our response variable. The data was split in a 70-30 training and testing split. We see the following results:\n",
    "\n",
    "#### Accuracy for Next_Sport : 77%\n",
    "#### Accuracy for Next_Sport_Time: 64%\n",
    "\n",
    "\n",
    "While the results for the Next_Sport_Time is not that good and will require better features to be engineered it is still better than a random classifier. The Next_Sport is relatively better classified with a higher accuracy of 77%. These results may be improved by implementing different classification models. However that was not the main focus of this report.\n"
   ]
  },
  {
   "cell_type": "code",
   "execution_count": null,
   "id": "2262f273",
   "metadata": {},
   "outputs": [],
   "source": []
  }
 ],
 "metadata": {
  "kernelspec": {
   "display_name": "Python 3 (ipykernel)",
   "language": "python",
   "name": "python3"
  },
  "language_info": {
   "codemirror_mode": {
    "name": "ipython",
    "version": 3
   },
   "file_extension": ".py",
   "mimetype": "text/x-python",
   "name": "python",
   "nbconvert_exporter": "python",
   "pygments_lexer": "ipython3",
   "version": "3.11.0"
  }
 },
 "nbformat": 4,
 "nbformat_minor": 5
}
